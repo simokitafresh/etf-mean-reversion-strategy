# notebooks/02_signal_generation.ipynb
"""
# シグナル生成

このノートブックでは、選定したETFユニバースに対してシグナルを生成します。
"""

# Google Colabでの実行環境のセットアップ
import sys
if 'google.colab' in sys.modules:
    # 以下のコードを実行してColabで環境をセットアップ
    !git clone https://github.com/your-username/etf-mean-reversion-strategy.git
    %cd etf-mean-reversion-strategy
    !pip install -r requirements.txt
    sys.path.append('.')

# 必要なライブラリとモジュールのインポート
import os
import json
import pandas as pd
import numpy as np
import matplotlib.pyplot as plt
import time
from datetime import datetime

# プロジェクトモジュールのインポート
from src.parameters.grid_search import generate_parameter_grid
from src.signals import calculate_signals_for_universe

# 結果ディレクトリの作成
os.makedirs("data/results/signals", exist_ok=True)

# 実行の開始
print(f"シグナル生成を開始します: {datetime.now().strftime('%Y-%m-%d %H:%M:%S')}")
start_time = time.time()

# ステップ1: 最終ETFユニバースの読み込み
print("\n--- ステップ1: 最終ETFユニバースの読み込み ---")
try:
    with open("data/results/final_etf_universe.json", 'r') as f:
        universe = json.load(f)
    print(f"ETFユニバース: {len(universe)}銘柄")
except FileNotFoundError:
    print("エラー: ETFユニバースが見つかりません。01_etf_universe.ipynbを先に実行してください。")
    universe = []

if len(universe) == 0:
    print("警告: ETFユニバースが空です。処理を続行できません。")
else:
    # ステップ2: パラメータグリッドの生成
    print("\n--- ステップ2: パラメータグリッドの生成 ---")
    param_grid = generate_parameter_grid()
    print(f"パラメータグリッド: {len(param_grid)}セット")
    
    # サンプルパラメータセットの表示
    if len(param_grid) > 0:
        print("\nサンプルパラメータセット:")
        for i, params in enumerate(param_grid[:3]):
            print(f"セット{i+1}: {params['param_key']}")
    
    # ステップ3: シグナル生成
    print("\n--- ステップ3: シグナル生成 ---")
    print(f"{len(universe)}銘柄 × {len(param_grid)}パラメータセットのシグナルを生成します...")
    
    signals_data = calculate_signals_for_universe(
        universe=universe,
        parameter_sets=param_grid,
        period="5y",
        min_samples=30
    )
    
    # 結果の表示
    print("\nシグナル生成結果:")
    
    signal_counts = {}
    for symbol, params_data in signals_data.items():
        buy_count = sum(param_data.get('buy_signals', 0) for param_data in params_data.values())
        sell_count = sum(param_data.get('sell_signals', 0) for param_data in params_data.values())
        signal_counts[symbol] = {'buy': buy_count, 'sell': sell_count}
    
    signal_df = pd.DataFrame(signal_counts).T
    signal_df.columns = ['買いシグナル数', '売りシグナル数']
    signal_df['合計'] = signal_df['買いシグナル数'] + signal_df['売りシグナル数']
    signal_df = signal_df.sort_values('合計', ascending=False)
    
    display(signal_df)
    
    # シグナル分布のプロット
    plt.figure(figsize=(14, 7))
    
    plt.subplot(1, 2, 1)
    signal_df['買いシグナル数'].plot(kind='bar', color='green')
    plt.title('ETF別買いシグナル数')
    plt.xticks(rotation=90)
    plt.tight_layout()
    
    plt.subplot(1, 2, 2)
    signal_df['売りシグナル数'].plot(kind='bar', color='red')
    plt.title('ETF別売りシグナル数')
    plt.xticks(rotation=90)
    plt.tight_layout()
    
    plt.show()

# 実行時間の表示
end_time = time.time()
execution_time = end_time - start_time
print(f"\n処理時間: {execution_time:.2f}秒 ({execution_time/60:.2f}分)")
print(f"シグナル生成が完了しました: {datetime.now().strftime('%Y-%m-%d %H:%M:%S')}")

# 次のステップのガイダンス
print("\n次のステップ:")
print("1. 03_parameter_stability.ipynb を実行してパラメータ安定性を評価してください")
