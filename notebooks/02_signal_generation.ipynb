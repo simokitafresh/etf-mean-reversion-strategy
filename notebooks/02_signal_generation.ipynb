# シグナル生成ノートブック
"""
# シグナル生成

このノートブックでは、選定したETFユニバースに対してトレンド逆張りシグナルを生成します。
処理時間短縮のため、サンプルETFセットを使用するオプションが含まれています。
"""

# Google Colabでの環境設定
import sys
if 'google.colab' in sys.modules:
    # 自動環境セットアップ
    print("🔄 Google Colab環境を準備中...")
    
    try:
        %run ../notebooks/setup_colab.py
    except:
        print("⚠️ setup_colab.pyの実行に失敗しました。基本的な設定を行います。")
        from google.colab import drive
        drive.mount('/content/drive')
        %cd /content/drive/MyDrive/etf-mean-reversion-strategy
    
    # サンプルETFモードとパラメータ最適化オプション
    USE_SAMPLE_ETF_SET = True
    LIMIT_PARAMETER_GRID = True  # パラメータ数を制限するオプション
    
    # メモリ使用状況の確認
    try:
        display_memory_usage()
    except:
        print("⚠️ メモリ使用量モニタリングを利用できません")

# 必要なライブラリとモジュールのインポート
import os
import json
import pandas as pd
import numpy as np
import matplotlib.pyplot as plt
import time
from datetime import datetime
from IPython.display import display, HTML
import traceback

# プロジェクトモジュールのインポート
from src.parameters.grid_search import generate_parameter_grid
from src.signals import calculate_signals_for_universe

# システムメモリ監視関数（Colab以外の環境用）
def check_memory_usage():
    try:
        import psutil
        process = psutil.Process(os.getpid())
        memory_info = process.memory_info()
        memory_usage_gb = memory_info.rss / (1024 ** 3)
        print(f"現在のメモリ使用量: {memory_usage_gb:.2f} GB")
        return memory_usage_gb
    except:
        print("メモリ使用量の確認ができません")
        return None

# 結果ディレクトリの作成
os.makedirs("data/results/signals", exist_ok=True)

# 実行の開始
print(f"シグナル生成を開始します: {datetime.now().strftime('%Y-%m-%d %H:%M:%S')}")
start_time = time.time()

# メモリ状態のチェックポイント
try:
    print("\nメモリ使用状況（開始時）:")
    memory_start = check_memory_usage()
except:
    memory_start = None

# ステップ1: ETFユニバースの読み込み
print("\n--- ステップ1: ETFユニバースの読み込み ---")

try:
    # サンプルETFモードの場合
    if 'USE_SAMPLE_ETF_SET' in globals() and USE_SAMPLE_ETF_SET:
        try:
            import src.universe.sample_etfs
            universe = src.universe.sample_etfs.get_sample_etfs()
            print(f"サンプルETFセット: {len(universe)}銘柄")
        except Exception as e:
            print(f"サンプルETFセットの読み込みエラー: {str(e)}")
            # バックアップ: 保存済みユニバースを読み込む
            with open("data/results/final_etf_universe.json", 'r') as f:
                universe = json.load(f)
            # 処理時間短縮のため上位銘柄のみ使用
            universe = universe[:8]
            print(f"バックアップ: 保存済みETFユニバースから上位{len(universe)}銘柄を使用")
    else:
        # 通常モード: 保存済みユニバースを読み込む
        try:
            with open("data/results/final_etf_universe.json", 'r') as f:
                universe = json.load(f)
            print(f"ETFユニバース: {len(universe)}銘柄")
        except FileNotFoundError:
            print("エラー: ETFユニバースが見つかりません。01_etf_universe.ipynbを先に実行してください。")
            universe = []
    
    # ユニバースの情報表示
    if len(universe) > 0:
        universe_df = pd.DataFrame(universe)
        display_cols = [col for col in ['symbol', 'name', 'avg_volume', 'cluster'] if col in universe_df.columns]
        display(universe_df[display_cols].head())
except Exception as e:
    print(f"ETFユニバース読み込みエラー: {str(e)}")
    traceback.print_exc()
    universe = []

# 処理継続判断
if len(universe) == 0:
    print("⛔ ETFユニバースが空です。処理を中止します。")
else:
    # ステップ2: パラメータグリッドの生成
    print("\n--- ステップ2: パラメータグリッドの生成 ---")
    
    try:
        # MVPモードでは限定パラメータグリッドを使用
        if 'LIMIT_PARAMETER_GRID' in globals() and LIMIT_PARAMETER_GRID:
            param_grid = generate_parameter_grid(
                bb_windows=[20],           # ボリンジャーバンド期間
                bb_stds=[2.0],             # ボリンジャーバンド標準偏差
                stoch_ks=[14],             # ストキャスティクスK期間
                stoch_ds=[3],              # ストキャスティクスD期間
                ema_periods=[200],         # EMA期間
                ema_slope_periods=[20],    # EMAスロープ計算期間
                holding_periods=[5]        # 保有期間
            )
            print(f"限定パラメータグリッド: {len(param_grid)}セット（MVP高速モード）")
        else:
            # 通常のパラメータグリッド生成
            param_grid = generate_parameter_grid()
            print(f"通常パラメータグリッド: {len(param_grid)}セット")
        
        # サンプルパラメータセットの表示
        if len(param_grid) > 0:
            print("\nサンプルパラメータセット:")
            for i, params in enumerate(param_grid[:3]):
                print(f"セット{i+1}: {params['param_key']}")
                for key, value in params.items():
                    if key != 'param_key':
                        print(f"  - {key}: {value}")
    except Exception as e:
        print(f"パラメータグリッド生成エラー: {str(e)}")
        traceback.print_exc()
        param_grid = []
    
    # 処理継続判断
    if len(param_grid) == 0:
        print("⛔ パラメータグリッドが空です。処理を中止します。")
    else:
        # メモリチェックポイント
        try:
            print("\nメモリ使用状況（パラメータグリッド生成後）:")
            check_memory_usage()
        except:
            pass
        
        # ステップ3: シグナル生成
        print(f"\n--- ステップ3: シグナル生成 ---")
        print(f"{len(universe)}銘柄 × {len(param_grid)}パラメータセットのシグナルを生成します...")
        
        try:
            # 開始時刻を記録
            signal_start_time = time.time()
            
            # 進捗表示用の設定
            total_combinations = len(universe) * len(param_grid)
            print(f"合計処理数: {total_combinations}組み合わせ")
            
            # 中断時のリカバリーをサポート
            checkpoint_file = "data/results/signals_checkpoint.json"
            try:
                if os.path.exists(checkpoint_file):
                    with open(checkpoint_file, 'r') as f:
                        checkpoint_data = json.load(f)
                    print(f"チェックポイントから復元: {len(checkpoint_data)}銘柄のデータがあります")
                    signals_data = checkpoint_data
                else:
                    signals_data = {}
            except:
                signals_data = {}
            
            # 処理実行
            signals_data = calculate_signals_for_universe(
                universe=universe,
                parameter_sets=param_grid,
                period="1y",  # MVPでは1年間のデータを使用
                min_samples=10,  # MVPではサンプル数の要件を緩和
                existing_data=signals_data  # 中断時のリカバリー用
            )
            
            # シグナル生成の所要時間
            signal_end_time = time.time()
            signal_duration = signal_end_time - signal_start_time
            print(f"シグナル生成完了: 所要時間 {signal_duration:.2f}秒 ({signal_duration/60:.2f}分)")
            
            # チェックポイントの保存
            with open(checkpoint_file, 'w') as f:
                json.dump(signals_data, f)
            
            # 結果を保存
            results_file = "data/results/all_signals.json"
            with open(results_file, 'w') as f:
                json.dump(signals_data, f, indent=2)
            print(f"シグナルデータを保存しました: {results_file}")
            
            # メモリチェックポイント
            try:
                print("\nメモリ使用状況（シグナル生成後）:")
                check_memory_usage()
            except:
                pass
            
            # 結果の表示と可視化
            print("\nシグナル生成結果:")
            
            # シグナル数のカウント
            signal_counts = {}
            for symbol, params_data in signals_data.items():
                buy_count = sum(param_data.get('buy_signals', 0) for param_data in params_data.values())
                sell_count = sum(param_data.get('sell_signals', 0) for param_data in params_data.values())
                signal_counts[symbol] = {'buy': buy_count, 'sell': sell_count}
            
            signal_df = pd.DataFrame(signal_counts).T
            signal_df.columns = ['買いシグナル数', '売りシグナル数']
            signal_df['合計'] = signal_df['買いシグナル数'] + signal_df['売りシグナル数']
            signal_df = signal_df.sort_values('合計', ascending=False)
            
            display(signal_df)
            
            # シグナル分布のプロット
            plt.figure(figsize=(14, 7))
            
            plt.subplot(1, 2, 1)
            signal_df['買いシグナル数'].plot(kind='bar', color='green')
            plt.title('ETF別買いシグナル数')
            plt.xticks(rotation=90)
            plt.tight_layout()
            
            plt.subplot(1, 2, 2)
            signal_df['売りシグナル数'].plot(kind='bar', color='red')
            plt.title('ETF別売りシグナル数')
            plt.xticks(rotation=90)
            plt.tight_layout()
            
            # プロットの保存と表示
            plt.savefig("data/results/signal_distribution.png", dpi=300, bbox_inches='tight')
            plt.show()
            
            # サンプルシグナルの可視化（最も多くのシグナルを持つETF）
            if len(signal_df) > 0:
                top_etf = signal_df.index[0]
                print(f"\n最もシグナルが多いETF ({top_etf}) のサンプル可視化:")
                
                # パラメータセットから最初のものを使用
                param_key = list(signals_data[top_etf].keys())[0]
                csv_path = signals_data[top_etf][param_key].get('csv_path', '')
                
                if os.path.exists(csv_path):
                    try:
                        # CSVからシグナルデータを読み込む
                        signal_df = pd.read_csv(csv_path, index_col=0, parse_dates=True)
                        
                        # シグナルが含まれるデータフレームの可視化
                        from src.utils.plotting import plot_price_with_signals
                        
                        # 過去100日分のデータでプロット
                        recent_data = signal_df.tail(100)
                        fig = plot_price_with_signals(
                            recent_data,
                            buy_signal_column='Buy_Signal',
                            sell_signal_column='Sell_Signal',
                            price_column='Adj Close',
                            sma_periods=[50],
                            bollinger_window=20,
                            figsize=(12, 6)
                        )
                        
                        # プロットの保存
                        plt.savefig(f"data/results/sample_signals_{top_etf}.png", dpi=300, bbox_inches='tight')
                        
                        print(f"サンプルシグナルプロットを保存しました: data/results/sample_signals_{top_etf}.png")
                    except Exception as e:
                        print(f"サンプルシグナル可視化エラー: {str(e)}")
                else:
                    print(f"シグナルデータファイルが見つかりません: {csv_path}")
            
        except Exception as e:
            print(f"シグナル生成エラー: {str(e)}")
            traceback.print_exc()

# 最終メモリ状態のチェック
try:
    print("\n最終メモリ使用状況:")
    memory_final = check_memory_usage()
    
    # メモリ使用の変化を表示
    if memory_start is not None and memory_final is not None:
        memory_increase = memory_final - memory_start
        print(f"メモリ使用量の増加: {memory_increase:.2f} GB")
except:
    pass

# 実行時間の表示
end_time = time.time()
execution_time = end_time - start_time
print(f"\n総処理時間: {execution_time:.2f}秒 ({execution_time/60:.2f}分)")
print(f"シグナル生成が完了しました: {datetime.now().strftime('%Y-%m-%d %H:%M:%S')}")

# 次のステップのガイダンス
print("\n次のステップ:")
print("1. 03_parameter_stability.ipynb を実行してパラメータ安定性を評価してください")

# サマリーを表形式で表示
from IPython.display import HTML

if 'universe' in locals() and 'param_grid' in locals() and 'signals_data' in locals():
    summary_data = [
        ["処理ステップ", "結果"],
        ["ETFユニバース", f"{len(universe)}銘柄"],
        ["パラメータグリッド", f"{len(param_grid)}セット"],
        ["生成シグナルデータ", f"{len(signals_data)}銘柄分"],
        ["処理時間", f"{execution_time:.2f}秒 ({execution_time/60:.2f}分)"],
        ["結果ファイル", "data/results/all_signals.json"]
    ]

    summary_html = "<table style='width:100%; border-collapse:collapse;'>"
    for i, row in enumerate(summary_data):
        style = "background-color:#f2f2f2;" if i == 0 else ""
        summary_html += f"<tr style='{style}'>"
        for cell in row:
            tag = "th" if i == 0 else "td"
            summary_html += f"<{tag} style='padding:8px; border:1px solid #ddd;'>{cell}</{tag}>"
        summary_html += "</tr>"
    summary_html += "</table>"

    display(HTML(summary_html))
