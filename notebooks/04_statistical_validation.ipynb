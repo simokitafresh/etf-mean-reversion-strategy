# notebooks/04_statistical_validation.ipynb
"""
# 統計的検証

このノートブックでは、ETF版「統計的トレンド逆張り」戦略の理論的エッジを統計的に検証します。
"""

# Google Colabでの実行環境のセットアップ
import sys
if 'google.colab' in sys.modules:
    # 以下のコードを実行してColabで環境をセットアップ
    !git clone https://github.com/your-username/etf-mean-reversion-strategy.git
    %cd etf-mean-reversion-strategy
    !pip install -r requirements.txt
    sys.path.append('.')

# 必要なライブラリとモジュールのインポート
import os
import json
import glob
import pandas as pd
import numpy as np
import matplotlib.pyplot as plt
import seaborn as sns
import time
from datetime import datetime
import matplotlib.image as mpimg

# プロジェクトモジュールのインポート
from src.validation import run_statistical_validation

# 結果ディレクトリの作成
os.makedirs("data/results/validation", exist_ok=True)

# 実行の開始
print(f"統計的検証を開始します: {datetime.now().strftime('%Y-%m-%d %H:%M:%S')}")
start_time = time.time()

# ステップ1: パラメータ安定性評価の結果を読み込む
print("\n--- ステップ1: 安定パラメータの読み込み ---")
try:
    with open("data/results/parameters/stability_results.json", 'r') as f:
        stability_results = json.load(f)
    
    buy_stable_params = stability_results['buy']['stable_params']
    sell_stable_params = stability_results['sell']['stable_params']
    
    print(f"買いシグナルの安定パラメータ: {len(buy_stable_params)}セット")
    print(f"売りシグナルの安定パラメータ: {len(sell_stable_params)}セット")
except FileNotFoundError:
    print("エラー: パラメータ安定性評価の結果が見つかりません。03_parameter_stability.ipynbを先に実行してください。")
    buy_stable_params = []
    sell_stable_params = []

# ステップ2: ETFユニバースの読み込み
print("\n--- ステップ2: ETFユニバースの読み込み ---")
try:
    with open("data/results/final_etf_universe.json", 'r') as f:
        universe = json.load(f)
    print(f"ETFユニバース: {len(universe)}銘柄")
    
    # ユニバースから上位3銘柄を選択（例として）
    selected_etfs = [etf['symbol'] for etf in universe[:3]]
    print(f"選択したETF: {selected_etfs}")
except FileNotFoundError:
    print("エラー: ETFユニバースが見つかりません。01_etf_universe.ipynbを先に実行してください。")
    selected_etfs = []

# ステップ3: 統計的検証の実行
print("\n--- ステップ3: 統計的検証の実行 ---")

if not selected_etfs or (not buy_stable_params and not sell_stable_params):
    print("エラー: ETFまたは安定パラメータがありません。処理を続行できません。")
else:
    # 安定パラメータから上位3つを選択（例として）
    selected_buy_params = [param['param_key'] for param in buy_stable_params[:3]] if buy_stable_params else []
    selected_sell_params = [param['param_key'] for param in sell_stable_params[:3]] if sell_stable_params else []
    
    print(f"選択した買いパラメータ: {selected_buy_params}")
    print(f"選択した売りパラメータ: {selected_sell_params}")
    
    # 統計的検証の実行
    all_validation_results = []
    
    # 各ETFと安定パラメータの組み合わせを検証
    for symbol in selected_etfs:
        # 買いパラメータの検証
        for param_key in selected_buy_params:
            # シグナルデータのパスを構築
            signal_data_path = f"data/results/signals/{symbol}_{param_key}.csv"
            
            if os.path.exists(signal_data_path):
                print(f"\n{symbol}の{param_key}（買い）を検証中...")
                
                # 統計的検証を実行
                validation_result = run_statistical_validation(
                    symbol=symbol,
                    param_key=param_key,
                    signal_data_path=signal_data_path
                )
                
                if validation_result:
                    all_validation_results.append(validation_result)
            else:
                print(f"警告: {signal_data_path}が見つかりません")
        
        # 売りパラメータの検証
        for param_key in selected_sell_params:
            # シグナルデータのパスを構築
            signal_data_path = f"data/results/signals/{symbol}_{param_key}.csv"
            
            if os.path.exists(signal_data_path):
                print(f"\n{symbol}の{param_key}（売り）を検証中...")
                
                # 統計的検証を実行
                validation_result = run_statistical_validation(
                    symbol=symbol,
                    param_key=param_key,
                    signal_data_path=signal_data_path
                )
                
                if validation_result:
                    all_validation_results.append(validation_result)
            else:
                print(f"警告: {signal_data_path}が見つかりません")
    
    # 結果の表示
    print("\n統計的検証結果:")
    
    validation_summary = []
    
    for result in all_validation_results:
        symbol = result['symbol']
        param_key = result['param_key']
        
        for signal_type, signal_result in result['signals'].items():
            if 'cpcv' in signal_result and 'walk_forward' in signal_result:
                cpcv_overall = signal_result['cpcv']['overall']
                wf_overall = signal_result['walk_forward']['overall']
                
                summary = {
                    'symbol': symbol,
                    'param_key': param_key,
                    'signal_type': signal_type,
                    'cpcv_win_rate': cpcv_overall.get('win_rate', 0),
                    'cpcv_wilson_lower': cpcv_overall.get('wilson_lower', 0),
                    'wf_win_rate': wf_overall.get('win_rate', 0),
                    'wf_return': wf_overall.get('return', 0),
                    'sample_count': signal_result.get('sample_count', 0)
                }
                
                if 'statistical_significance' in signal_result:
                    significance = signal_result['statistical_significance']
                    summary['is_significant'] = significance.get('is_significant', False)
                    summary['p_value'] = significance.get('p_value', 1.0)
                
                validation_summary.append(summary)
    
    if validation_summary:
        summary_df = pd.DataFrame(validation_summary)
        summary_df = summary_df.sort_values('wf_return', ascending=False)
        
        display(summary_df)
        
        # 有効な銘柄とシグナルのエクイティカーブを表示
        print("\nエクイティカーブ:")
        
        for result in all_validation_results:
            symbol = result['symbol']
            
            for signal_type, signal_result in result['signals'].items():
                if 'wf_visualizations' in signal_result and 'equity_curve' in signal_result['wf_visualizations']:
                    equity_path = signal_result['wf_visualizations']['equity_curve']
                    
                    if os.path.exists(equity_path):
                        plt.figure(figsize=(12, 6))
                        img = mpimg.imread(equity_path)
                        plt.imshow(img)
                        plt.axis('off')
                        plt.title(f"{symbol} - {signal_type}のエクイティカーブ")
                        plt.show()
    else:
        print("有効な検証結果がありません")

# 実行時間の表示
end_time = time.time()
execution_time = end_time - start_time
print(f"\n処理時間: {execution_time:.2f}秒 ({execution_time/60:.2f}分)")
print(f"統計的検証が完了しました: {datetime.now().strftime('%Y-%m-%d %H:%M:%S')}")

# 次のステップのガイダンス
print("\n理論的エッジ検証が完了しました。以下の基準でシグナルを評価してください:")
print("1. CPCV: すべてのフォールドでWilson下限 > 50%")
print("2. Walk-Forward: 期間全体での統計的有意性（p < 0.05）")
print("3. 市場環境: 異なる市場環境での一貫したパフォーマンス")
print("\n理論的エッジが確認できた場合のみ、フェーズ2（実用性検証）に進みます。")
