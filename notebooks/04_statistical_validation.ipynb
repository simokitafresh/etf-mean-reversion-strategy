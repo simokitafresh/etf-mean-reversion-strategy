# 統計的検証ノートブック
"""
# 統計的検証

このノートブックでは、ETF版「統計的トレンド逆張り」戦略の理論的エッジを統計的に検証します。
処理時間短縮のため、サンプルETFセットと安定パラメータのみを検証します。
"""

# Google Colabでの環境設定
import sys
if 'google.colab' in sys.modules:
    # 自動環境セットアップ
    print("🔄 Google Colab環境を準備中...")
    
    try:
        %run ../notebooks/setup_colab.py
    except:
        print("⚠️ setup_colab.pyの実行に失敗しました。基本的な設定を行います。")
        from google.colab import drive
        drive.mount('/content/drive')
        %cd /content/drive/MyDrive/etf-mean-reversion-strategy
    
    # メモリ使用状況の確認
    try:
        display_memory_usage()
    except:
        print("⚠️ メモリ使用量モニタリングを利用できません")
    
    # 処理時間短縮オプション
    USE_SAMPLE_ETF_SET = True         # サンプルETFセットを使用
    LIMIT_TEST_PARAMETERS = True      # テストするパラメータ数を制限
    USE_SIMPLIFIED_VALIDATION = True  # 簡易検証モード（軽量版）

# 必要なライブラリとモジュールのインポート
import os
import json
import glob
import pandas as pd
import numpy as np
import matplotlib.pyplot as plt
import seaborn as sns
import time
from datetime import datetime
import matplotlib.image as mpimg
from IPython.display import display, HTML
import traceback

# プロジェクトモジュールのインポート
from src.validation import run_statistical_validation

# システムメモリ監視関数（Colab以外の環境用）
def check_memory_usage():
    try:
        import psutil
        process = psutil.Process(os.getpid())
        memory_info = process.memory_info()
        memory_usage_gb = memory_info.rss / (1024 ** 3)
        print(f"現在のメモリ使用量: {memory_usage_gb:.2f} GB")
        return memory_usage_gb
    except:
        print("メモリ使用量の確認ができません")
        return None

# 結果ディレクトリの作成
os.makedirs("data/results/validation", exist_ok=True)

# 実行の開始
print(f"統計的検証を開始します: {datetime.now().strftime('%Y-%m-%d %H:%M:%S')}")
start_time = time.time()

# メモリ状態のチェックポイント
try:
    print("\nメモリ使用状況（開始時）:")
    memory_start = check_memory_usage()
except:
    memory_start = None

# ステップ1: パラメータ安定性評価の結果を読み込む
print("\n--- ステップ1: 安定パラメータの読み込み ---")

try:
    stability_file = "data/results/parameters/stability_results.json"
    
    if os.path.exists(stability_file):
        with open(stability_file, 'r') as f:
            stability_results = json.load(f)
        
        buy_stable_params = stability_results['buy']['stable_params']
        sell_stable_params = stability_results['sell']['stable_params']
        
        print(f"買いシグナルの安定パラメータ: {len(buy_stable_params)}セット")
        print(f"売りシグナルの安定パラメータ: {len(sell_stable_params)}セット")
    else:
        print(f"エラー: 安定性評価結果({stability_file})が見つかりません。03_parameter_stability.ipynbを先に実行してください。")
        buy_stable_params = []
        sell_stable_params = []
except Exception as e:
    print(f"安定パラメータ読み込みエラー: {str(e)}")
    traceback.print_exc()
    buy_stable_params = []
    sell_stable_params = []

# ステップ2: ETFユニバースの読み込み
print("\n--- ステップ2: ETFユニバースの読み込み ---")

try:
    # ETFユニバースの読み込み
    if 'USE_SAMPLE_ETF_SET' in globals() and USE_SAMPLE_ETF_SET:
        try:
            import src.universe.sample_etfs
            universe = src.universe.sample_etfs.get_sample_etfs()
            print(f"サンプルETFセット: {len(universe)}銘柄")
        except Exception as e:
            print(f"サンプルETFセットの読み込みエラー: {str(e)}")
            # バックアップ: 保存済みユニバースを読み込む
            with open("data/results/final_etf_universe.json", 'r') as f:
                universe = json.load(f)
            # 処理時間短縮のため上位銘柄のみ使用
            universe = universe[:8]
            print(f"バックアップ: 保存済みETFユニバースから上位{len(universe)}銘柄を使用")
    else:
        # 通常モード: 保存済みユニバースを読み込む
        try:
            with open("data/results/final_etf_universe.json", 'r') as f:
                universe = json.load(f)
            print(f"ETFユニバース: {len(universe)}銘柄")
        except FileNotFoundError:
            print("エラー: ETFユニバースが見つかりません。01_etf_universe.ipynbを先に実行してください。")
            universe = []
    
    # MVPでは処理時間短縮のため、検証するETFを制限
    if len(universe) > 3:
        selected_etfs = universe[:3]
        print(f"MVPモード: 検証対象を{len(selected_etfs)}銘柄に制限します")
    else:
        selected_etfs = universe
    
    # ユニバースの表示
    if selected_etfs:
        symbols = [etf['symbol'] for etf in selected_etfs]
        print(f"選択したETF: {symbols}")
except Exception as e:
    print(f"ETFユニバース読み込みエラー: {str(e)}")
    traceback.print_exc()
    selected_etfs = []

# 処理継続判断
if not selected_etfs or (not buy_stable_params and not sell_stable_params):
    print("⛔ ETFまたは安定パラメータがありません。処理を中止します。")
else:
    # ステップ3: 統計的検証の実行
    print("\n--- ステップ3: 統計的検証の実行 ---")
    
    try:
        # 検証するパラメータを制限（MVPモード）
        if 'LIMIT_TEST_PARAMETERS' in globals() and LIMIT_TEST_PARAMETERS:
            max_params = 2  # 各方向で最大2つのパラメータのみテスト
            selected_buy_params = [param['param_key'] for param in buy_stable_params[:max_params]] if buy_stable_params else []
            selected_sell_params = [param['param_key'] for param in sell_stable_params[:max_params]] if sell_stable_params else []
        else:
            selected_buy_params = [param['param_key'] for param in buy_stable_params] if buy_stable_params else []
            selected_sell_params = [param['param_key'] for param in sell_stable_params] if sell_stable_params else []
        
        print(f"選択した買いパラメータ: {selected_buy_params}")
        print(f"選択した売りパラメータ: {selected_sell_params}")
        
        # 簡易検証モードオプション
        simplified_mode = 'USE_SIMPLIFIED_VALIDATION' in globals() and USE_SIMPLIFIED_VALIDATION
        
        # 統計的検証の実行
        all_validation_results = []
        
        # 検証進捗状況の表示
        total_validations = len(selected_etfs) * (len(selected_buy_params) + len(selected_sell_params))
        completed_validations = 0
        
        print(f"合計検証数: {total_validations}件")
        
        # 検証処理の計測開始
        validation_start_time = time.time()
        
        # 各ETFと安定パラメータの組み合わせを検証
        for etf_idx, etf in enumerate(selected_etfs):
            symbol = etf['symbol']
            
            # 買いパラメータの検証
            for param_idx, param_key in enumerate(selected_buy_params):
                # シグナルデータのパスを構築
                signal_data_path = f"data/results/signals/{symbol}_{param_key}.csv"
                
                if os.path.exists(signal_data_path):
                    print(f"\n検証 {completed_validations+1}/{total_validations}: {symbol}の{param_key}（買い）")
                    
                    # 進捗表示
                    progress_pct = (completed_validations / total_validations) * 100
                    print(f"進捗: {progress_pct:.1f}% 完了")
                    
                    # 統計的検証を実行
                    try:
                        validation_options = {
                            'simplified': simplified_mode,
                            'cpcv_folds': 3 if simplified_mode else 5,  # 簡易モードではフォールド数を減らす
                            'walk_forward_train_years': 2 if simplified_mode else 3  # 訓練期間も短縮
                        }
                        
                        validation_result = run_statistical_validation(
                            symbol=symbol,
                            param_key=param_key,
                            signal_data_path=signal_data_path,
                            options=validation_options
                        )
                        
                        if validation_result:
                            all_validation_results.append(validation_result)
                        
                        # メモリ管理
                        if (etf_idx * len(selected_buy_params) + param_idx + 1) % 2 == 0:
                            try:
                                print("\n中間メモリ使用状況:")
                                check_memory_usage()
                                
                                # 簡易的なガベージコレクション促進
                                import gc
                                gc.collect()
                            except:
                                pass
                    except Exception as e:
                        print(f"検証エラー: {str(e)}")
                        traceback.print_exc()
                else:
                    print(f"警告: {signal_data_path}が見つかりません")
                
                completed_validations += 1
            
            # 売りパラメータの検証
            for param_idx, param_key in enumerate(selected_sell_params):
                # シグナルデータのパスを構築
                signal_data_path = f"data/results/signals/{symbol}_{param_key}.csv"
                
                if os.path.exists(signal_data_path):
                    print(f"\n検証 {completed_validations+1}/{total_validations}: {symbol}の{param_key}（売り）")
                    
                    # 進捗表示
                    progress_pct = (completed_validations / total_validations) * 100
                    print(f"進捗: {progress_pct:.1f}% 完了")
                    
                    # 統計的検証を実行
                    try:
                        validation_options = {
                            'simplified': simplified_mode,
                            'cpcv_folds': 3 if simplified_mode else 5,  # 簡易モードではフォールド数を減らす
                            'walk_forward_train_years': 2 if simplified_mode else 3  # 訓練期間も短縮
                        }
                        
                        validation_result = run_statistical_validation(
                            symbol=symbol,
                            param_key=param_key,
                            signal_data_path=signal_data_path,
                            options=validation_options
                        )
                        
                        if validation_result:
                            all_validation_results.append(validation_result)
                        
                        # メモリ管理
                        if (etf_idx * len(selected_sell_params) + param_idx + 1) % 2 == 0:
                            try:
                                print("\n中間メモリ使用状況:")
                                check_memory_usage()
                                
                                # 簡易的なガベージコレクション促進
                                import gc
                                gc.collect()
                            except:
                                pass
                    except Exception as e:
                        print(f"検証エラー: {str(e)}")
                        traceback.print_exc()
                else:
                    print(f"警告: {signal_data_path}が見つかりません")
                
                completed_validations += 1
        
        # 検証処理の計測終了
        validation_end_time = time.time()
        validation_duration = validation_end_time - validation_start_time
        print(f"\n統計的検証完了: 所要時間 {validation_duration:.2f}秒 ({validation_duration/60:.2f}分)")
        
        # メモリチェックポイント
        try:
            print("\nメモリ使用状況（検証後）:")
            check_memory_usage()
        except:
            pass
        
        # 結果の表示
        print(f"\n統計的検証結果: {len(all_validation_results)}件")
        
        # まとめのデータフレーム作成
        validation_summary = []
        
        for result in all_validation_results:
            symbol = result['symbol']
            param_key = result['param_key']
            
            for signal_type, signal_result in result['signals'].items():
                if 'cpcv' in signal_result and 'walk_forward' in signal_result:
                    cpcv_overall = signal_result['cpcv']['overall']
                    wf_overall = signal_result['walk_forward']['overall']
                    
                    summary = {
                        'symbol': symbol,
                        'param_key': param_key,
                        'signal_type': signal_type,
                        'cpcv_win_rate': cpcv_overall.get('win_rate', 0),
                        'cpcv_wilson_lower': cpcv_overall.get('wilson_lower', 0),
                        'wf_win_rate': wf_overall.get('win_rate', 0),
                        'wf_return': wf_overall.get('return', 0),
                        'sample_count': signal_result.get('sample_count', 0)
                    }
                    
                    if 'statistical_significance' in signal_result:
                        significance = signal_result['statistical_significance']
                        summary['is_significant'] = significance.get('is_significant', False)
                        summary['p_value'] = significance.get('p_value', 1.0)
                    
                    validation_summary.append(summary)
        
        # 結果の表示とソート
        if validation_summary:
            summary_df = pd.DataFrame(validation_summary)
            summary_df = summary_df.sort_values('wf_return', ascending=False)
            
            display(summary_df)
            
            # サマリーをCSVとして保存
            summary_csv = "data/results/validation/validation_summary.csv"
            summary_df.to_csv(summary_csv, index=False)
            print(f"検証サマリーを保存しました: {summary_csv}")
            
            # 理論的エッジがあるかどうかを判断
            edge_threshold = {
                'cpcv_win_rate': 0.55,
                'wilson_lower': 0.5,
                'wf_win_rate': 0.55,
                'wf_return': 0.05,
                'sample_count': 30
            }
            
            # 理論的エッジを持つシグナルを特定
            edge_signals = summary_df[
                (summary_df['cpcv_win_rate'] >= edge_threshold['cpcv_win_rate']) &
                (summary_df['cpcv_wilson_lower'] >= edge_threshold['wilson_lower']) &
                (summary_df['wf_win_rate'] >= edge_threshold['wf_win_rate']) &
                (summary_df['wf_return'] >= edge_threshold['wf_return']) &
                (summary_df['sample_count'] >= edge_threshold['sample_count'])
            ]
            
            print(f"\n理論的エッジを持つシグナル: {len(edge_signals)}/{len(summary_df)}件")
            
            if not edge_signals.empty:
                print("\n有望なシグナル:")
                display(edge_signals)
                
                # 最も有望なシグナルを詳細表示
                best_signal = edge_signals.iloc[0]
                print(f"\n最も有望なシグナル: {best_signal['symbol']} - {best_signal['param_key']} ({best_signal['signal_type']})")
                print(f"  - CPCV勝率: {best_signal['cpcv_win_rate']:.1%}")
                print(f"  - Wilson下限: {best_signal['cpcv_wilson_lower']:.1%}")
                print(f"  - Walk-Forward勝率: {best_signal['wf_win_rate']:.1%}")
                print(f"  - Walk-Forwardリターン: {best_signal['wf_return']:.1%}")
                print(f"  - サンプル数: {best_signal['sample_count']}")
                print(f"  - 統計的有意性: {'あり' if best_signal.get('is_significant', False) else 'なし'}")
                
                # 最も有望なシグナルのエクイティカーブを表示
                for result in all_validation_results:
                    if (result['symbol'] == best_signal['symbol'] and 
                        result['param_key'] == best_signal['param_key']):
                        
                        signal_result = result['signals'].get(best_signal['signal_type'], {})
                        if 'wf_visualizations' in signal_result and 'equity_curve' in signal_result['wf_visualizations']:
                            equity_path = signal_result['wf_visualizations']['equity_curve']
                            
                            if os.path.exists(equity_path):
                                plt.figure(figsize=(12, 6))
                                img = mpimg.imread(equity_path)
                                plt.imshow(img)
                                plt.axis('off')
                                plt.title(f"{best_signal['symbol']} - {best_signal['signal_type']}のエクイティカーブ")
                                plt.show()
                                print(f"エクイティカーブ: {equity_path}")
            else:
                print("\n理論的エッジを持つシグナルが見つかりませんでした。")
                print("以下の条件を満たすシグナルがありません:")
                print(f"  - CPCV勝率 >= {edge_threshold['cpcv_win_rate']:.1%}")
                print(f"  - Wilson下限 >= {edge_threshold['wilson_lower']:.1%}")
                print(f"  - Walk-Forward勝率 >= {edge_threshold['wf_win_rate']:.1%}")
                print(f"  - Walk-Forwardリターン >= {edge_threshold['wf_return']:.1%}")
                print(f"  - サンプル数 >= {edge_threshold['sample_count']}")
            
            # すべての検証結果をJSONとして保存
            results_json = "data/results/validation/all_validation_results.json"
            with open(results_json, 'w') as f:
                json.dump(all_validation_results, f, indent=2)
            print(f"すべての検証結果を保存しました: {results_json}")
            
            # MVPのまとめレポート作成
            report_html = "data/results/validation/mvp_summary_report.html"
            with open(report_html, 'w') as f:
                f.write(f"""
                <!DOCTYPE html>
                <html>
                <head>
                    <title>ETF版「統計的トレンド逆張り」戦略 - MVPレポート</title>
                    <style>
                        body {{ font-family: Arial, sans-serif; margin: 20px; line-height: 1.6; }}
                        h1, h2, h3 {{ color: #333; }}
                        .container {{ max-width: 900px; margin: 0 auto; }}
                        table {{ border-collapse: collapse; width: 100%; margin-bottom: 20px; }}
                        th, td {{ border: 1px solid #ddd; padding: 8px; text-align: left; }}
                        th {{ background-color: #f2f2f2; }}
                        tr:nth-child(even) {{ background-color: #f9f9f9; }}
                        .success {{ color: green; font-weight: bold; }}
                        .warning {{ color: orange; font-weight: bold; }}
                        .danger {{ color: red; font-weight: bold; }}
                        .summary-box {{ border: 1px solid #ddd; padding: 15px; margin-bottom: 20px; border-radius: 5px; }}
                    </style>
                </head>
                <body>
                    <div class="container">
                        <h1>ETF版「統計的トレンド逆張り」戦略 - MVPレポート</h1>
                        <p>生成日時: {datetime.now().strftime('%Y-%m-%d %H:%M:%S')}</p>
                        
                        <div class="summary-box">
                            <h2>検証サマリー</h2>
                            <p>検証ETF数: {len(selected_etfs)}</p>
                            <p>検証パラメータ数: 買い {len(selected_buy_params)}セット, 売り {len(selected_sell_params)}セット</p>
                            <p>合計検証件数: {len(validation_summary)}</p>
                            <p>理論的エッジを持つシグナル: <span class="{('success' if len(edge_signals) > 0 else 'danger')}">{len(edge_signals)}</span></p>
                        </div>
                        
                        <h2>検証結果一覧</h2>
                        <table>
                            <tr>
                                <th>銘柄</th>
                                <th>パラメータ</th>
                                <th>シグナル</th>
                                <th>CPCV勝率</th>
                                <th>Wilson下限</th>
                                <th>WF勝率</th>
                                <th>WFリターン</th>
                                <th>サンプル数</th>
                                <th>有意性</th>
                            </tr>
                """)
                
                # 各シグナルの行を追加
                for _, row in summary_df.iterrows():
                    # 条件に応じたクラス判定
                    cpcv_class = "success" if row['cpcv_win_rate'] >= edge_threshold['cpcv_win_rate'] else "danger"
                    wilson_class = "success" if row['cpcv_wilson_lower'] >= edge_threshold['wilson_lower'] else "danger"
                    wf_win_class = "success" if row['wf_win_rate'] >= edge_threshold['wf_win_rate'] else "danger"
                    wf_return_class = "success" if row['wf_return'] >= edge_threshold['wf_return'] else "danger"
                    sample_class = "success" if row['sample_count'] >= edge_threshold['sample_count'] else "danger"
                    
                    sig_text = "あり" if row.get('is_significant', False) else "なし"
                    sig_class = "success" if row.get('is_significant', False) else "warning"
                    
                    f.write(f"""
                            <tr>
                                <td>{row['symbol']}</td>
                                <td>{row['param_key']}</td>
                                <td>{row['signal_type']}</td>
                                <td class="{cpcv_class}">{row['cpcv_win_rate']:.1%}</td>
                                <td class="{wilson_class}">{row['cpcv_wilson_lower']:.1%}</td>
                                <td class="{wf_win_class}">{row['wf_win_rate']:.1%}</td>
                                <td class="{wf_return_class}">{row['wf_return']:.1%}</td>
                                <td class="{sample_class}">{row['sample_count']}</td>
                                <td class="{sig_class}">{sig_text}</td>
                            </tr>
                    """)
                
                # レポートの終了
                f.write(f"""
                        </table>
                        
                        <h2>理論的エッジ判定</h2>
                        <div class="summary-box">
                """)
                
                if not edge_signals.empty:
                    f.write(f"""
                            <h3 class="success">理論的エッジが確認されました</h3>
                            <p>以下の基準を満たすシグナルが見つかりました:</p>
                            <ul>
                                <li>CPCV勝率 > {edge_threshold['cpcv_win_rate']:.1%}</li>
                                <li>Wilson下限 > {edge_threshold['wilson_lower']:.1%}</li>
                                <li>Walk-Forward勝率 > {edge_threshold['wf_win_rate']:.1%}</li>
                                <li>Walk-Forwardリターン > {edge_threshold['wf_return']:.1%}</li>
                                <li>サンプル数 ≥ {edge_threshold['sample_count']}</li>
                            </ul>
                            <p>フェーズ2（実用検証）に進むことをお勧めします。</p>
                    """)
                else:
                    f.write(f"""
                            <h3 class="danger">理論的エッジが確認できませんでした</h3>
                            <p>以下の基準を満たすシグナルが見つかりませんでした:</p>
                            <ul>
                                <li>CPCV勝率 > {edge_threshold['cpcv_win_rate']:.1%}</li>
                                <li>Wilson下限 > {edge_threshold['wilson_lower']:.1%}</li>
                                <li>Walk-Forward勝率 > {edge_threshold['wf_win_rate']:.1%}</li>
                                <li>Walk-Forwardリターン > {edge_threshold['wf_return']:.1%}</li>
                                <li>サンプル数 ≥ {edge_threshold['sample_count']}</li>
                            </ul>
                            <p>戦略の見直しが必要です。</p>
                    """)
                
                f.write(f"""
                        </div>
                        
                        <h2>実行情報</h2>
                        <table>
                            <tr><th>項目</th><th>値</th></tr>
                            <tr><td>実行日時</td><td>{datetime.now().strftime('%Y-%m-%d %H:%M:%S')}</td></tr>
                            <tr><td>処理時間</td><td>{validation_duration:.2f}秒 ({validation_duration/60:.2f}分)</td></tr>
                            <tr><td>使用モード</td><td>{'簡易モード' if simplified_mode else '通常モード'}</td></tr>
                        </table>
                        
                        <p>レポート生成: ETF版「統計的トレンド逆張り」戦略 MVPバージョン</p>
                    </div>
                </body>
                </html>
                """)
            
            print(f"MVPサマリーレポートを生成しました: {report_html}")
        else:
            print("有効な検証結果がありません")
    
    except Exception as e:
        print(f"統計的検証全体エラー: {str(e)}")
        traceback.print_exc()

# 最終メモリ状態のチェック
try:
    print("\n最終メモリ使用状況:")
    memory_final = check_memory_usage()
    
    # メモリ使用の変化を表示
    if memory_start is not None and memory_final is not None:
        memory_increase = memory_final - memory_start
        print(f"メモリ使用量の増加: {memory_increase:.2f} GB")
except:
    pass

# 実行時間の表示
end_time = time.time()
execution_time = end_time - start_time
print(f"\n総処理時間: {execution_time:.2f}秒 ({execution_time/60:.2f}分)")
print(f"統計的検証が完了しました: {datetime.now().strftime('%Y-%m-%d %H:%M:%S')}")

# 理論的エッジ検証の判断基準
print("\n理論的エッジの判断基準:")
print("1. CPCV勝率 > 55%")
print("2. Wilson下限 > 50%")
print("3. Walk-Forward勝率 > 55%")
print("4. Walk-Forwardリターン > 5%")
print("5. サンプル数 ≥ 30")
print("\nこれらの基準を満たすシグナルがあれば、理論的エッジが確認されたと判断します。")

# サマリーを表形式で表示
from IPython.display import HTML

if 'validation_summary' in locals() and validation_summary:
    summary_data = [
        ["処理ステップ", "結果"],
        ["検証対象ETF", f"{len(selected_etfs)}銘柄"],
        ["検証パラメータ", f"買い: {len(selected_buy_params)}セット, 売り: {len(selected_sell_params)}セット"],
        ["検証結果数", f"{len(validation_summary)}件"],
        ["理論的エッジ", f"{'あり' if 'edge_signals' in locals() and len(edge_signals) > 0 else 'なし'}"],
        ["処理時間", f"{execution_time:.2f}秒 ({execution_time/60:.2f}分)"],
        ["結果レポート", "data/results/validation/mvp_summary_report.html"]
    ]

    summary_html = "<table style='width:100%; border-collapse:collapse;'>"
    for i, row in enumerate(summary_data):
        style = "background-color:#f2f2f2;" if i == 0 else ""
        summary_html += f"<tr style='{style}'>"
        for cell in row:
            tag = "th" if i == 0 else "td"
            summary_html += f"<{tag} style='padding:8px; border:1px solid #ddd;'>{cell}</{tag}>"
        summary_html += "</tr>"
    summary_html += "</table>"

    display(HTML(summary_html))
