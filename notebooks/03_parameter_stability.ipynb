# パラメータ安定性評価ノートブック
"""
# パラメータ安定性評価

このノートブックでは、生成したシグナルのパラメータ安定性を評価し、最も安定したパラメータ設定を特定します。
処理時間短縮のため、サンプルETFセットと限定パラメータを使用するオプションが含まれています。
"""

# Google Colabでの環境設定
import sys
if 'google.colab' in sys.modules:
    # 自動環境セットアップ
    print("🔄 Google Colab環境を準備中...")
    
    try:
        %run ../notebooks/setup_colab.py
    except:
        print("⚠️ setup_colab.pyの実行に失敗しました。基本的な設定を行います。")
        from google.colab import drive
        drive.mount('/content/drive')
        %cd /content/drive/MyDrive/etf-mean-reversion-strategy
    
    # メモリ使用状況の確認
    try:
        display_memory_usage()
    except:
        print("⚠️ メモリ使用量モニタリングを利用できません")
    
    # 処理時間短縮オプション
    USE_SAMPLE_ETF_SET = True      # サンプルETFセットを使用
    LIMIT_PARAMETER_GRID = True    # 限定パラメータグリッドを使用
    USE_SIMPLIFIED_HEATMAP = True  # 簡易ヒートマップを使用

# 必要なライブラリとモジュールのインポート
import os
import json
import glob
import pandas as pd
import numpy as np
import matplotlib.pyplot as plt
import seaborn as sns
import time
from datetime import datetime
import matplotlib.image as mpimg
from IPython.display import display, HTML
import traceback

# プロジェクトモジュールのインポート
from src.parameters import evaluate_parameter_stability

# システムメモリ監視関数（Colab以外の環境用）
def check_memory_usage():
    try:
        import psutil
        process = psutil.Process(os.getpid())
        memory_info = process.memory_info()
        memory_usage_gb = memory_info.rss / (1024 ** 3)
        print(f"現在のメモリ使用量: {memory_usage_gb:.2f} GB")
        return memory_usage_gb
    except:
        print("メモリ使用量の確認ができません")
        return None

# 結果ディレクトリの作成
os.makedirs("data/results/parameters", exist_ok=True)

# 実行の開始
print(f"パラメータ安定性評価を開始します: {datetime.now().strftime('%Y-%m-%d %H:%M:%S')}")
start_time = time.time()

# メモリ状態のチェックポイント
try:
    print("\nメモリ使用状況（開始時）:")
    memory_start = check_memory_usage()
except:
    memory_start = None

# ステップ1: 最終ETFユニバースとシグナルデータの確認
print("\n--- ステップ1: ETFユニバースとシグナルデータの確認 ---")

try:
    # ETFユニバースの読み込み
    if 'USE_SAMPLE_ETF_SET' in globals() and USE_SAMPLE_ETF_SET:
        try:
            import src.universe.sample_etfs
            universe = src.universe.sample_etfs.get_sample_etfs()
            print(f"サンプルETFセット: {len(universe)}銘柄")
        except Exception as e:
            print(f"サンプルETFセットの読み込みエラー: {str(e)}")
            # バックアップ: 保存済みユニバースを読み込む
            with open("data/results/final_etf_universe.json", 'r') as f:
                universe = json.load(f)
            # 処理時間短縮のため上位銘柄のみ使用
            universe = universe[:8]
            print(f"バックアップ: 保存済みETFユニバースから上位{len(universe)}銘柄を使用")
    else:
        # 通常モード: 保存済みユニバースを読み込む
        try:
            with open("data/results/final_etf_universe.json", 'r') as f:
                universe = json.load(f)
            print(f"ETFユニバース: {len(universe)}銘柄")
        except FileNotFoundError:
            print("エラー: ETFユニバースが見つかりません。01_etf_universe.ipynbを先に実行してください。")
            universe = []
    
    # シグナルデータの存在確認
    signals_file = "data/results/all_signals.json"
    if os.path.exists(signals_file):
        with open(signals_file, 'r') as f:
            signals_data = json.load(f)
        print(f"シグナルデータ読み込み成功: {len(signals_data)}銘柄のデータがあります")
    else:
        print(f"警告: シグナルデータファイル({signals_file})が見つかりません。02_signal_generation.ipynbを先に実行してください。")
        # 空のシグナルデータを作成
        signals_data = {}
        for etf in universe:
            signals_data[etf['symbol']] = {}
        print(f"空のシグナルデータを作成: {len(signals_data)}銘柄")
    
    # CSVファイルの確認
    signal_csvs = glob.glob("data/results/signals/*.csv")
    print(f"シグナルCSVファイル: {len(signal_csvs)}ファイル")
    
    if len(signal_csvs) == 0:
        print("警告: シグナルCSVファイルが見つかりません。02_signal_generation.ipynbを先に実行してください。")
    
    # ユニバースとシグナルデータの整合性確認
    universe_symbols = [etf['symbol'] for etf in universe]
    signal_symbols = list(signals_data.keys())
    
    common_symbols = set(universe_symbols) & set(signal_symbols)
    missing_symbols = set(universe_symbols) - set(signal_symbols)
    
    print(f"ユニバースとシグナルデータの共通銘柄: {len(common_symbols)}")
    if missing_symbols:
        print(f"シグナルデータが不足している銘柄: {missing_symbols}")
        
    # 使用する銘柄を共通部分に制限
    universe = [etf for etf in universe if etf['symbol'] in common_symbols]
    print(f"有効なETFユニバース: {len(universe)}銘柄")
    
    # 簡易情報表示
    if universe:
        symbols = [etf['symbol'] for etf in universe[:5]]
        print(f"代表的な銘柄: {', '.join(symbols)}" + ("..." if len(universe) > 5 else ""))
except Exception as e:
    print(f"データ確認エラー: {str(e)}")
    traceback.print_exc()
    universe = []

# 処理継続判断
if len(universe) == 0:
    print("⛔ 有効なETFユニバースがありません。処理を中止します。")
else:
    # ステップ2: パラメータ安定性評価
    print("\n--- ステップ2: パラメータ安定性評価 ---")
    
    try:
        # 評価オプションの設定
        evaluation_options = {
            'recalculate': False,  # 既存の結果があれば再利用
            'use_simplified_heatmap': 'USE_SIMPLIFIED_HEATMAP' in globals() and USE_SIMPLIFIED_HEATMAP,
            'limit_parameters': 'LIMIT_PARAMETER_GRID' in globals() and LIMIT_PARAMETER_GRID
        }
        
        print(f"評価オプション: {evaluation_options}")
        
        # パラメータ安定性評価の実行
        eval_start_time = time.time()
        
        # evaluate_parameter_stabilityを確認して必要な引数を渡す
        import inspect
        params = inspect.signature(evaluate_parameter_stability).parameters
        
        if 'options' in params:
            stability_results = evaluate_parameter_stability(
                universe=universe,
                options=evaluation_options
            )
        else:
            # 引数が異なる場合は標準の引数で呼び出し
            stability_results = evaluate_parameter_stability(
                universe=universe,
                recalculate=evaluation_options['recalculate']
            )
        
        eval_end_time = time.time()
        eval_duration = eval_end_time - eval_start_time
        print(f"パラメータ安定性評価完了: 所要時間 {eval_duration:.2f}秒 ({eval_duration/60:.2f}分)")
        
        # メモリチェックポイント
        try:
            print("\nメモリ使用状況（安定性評価後）:")
            check_memory_usage()
        except:
            pass
        
        # 結果の表示
        print("\n安定性評価結果:")
        
        # 買いシグナルの安定パラメータ
        print("\n買いシグナルの安定パラメータ:")
        buy_stable_params = stability_results['buy']['stable_params']
        if buy_stable_params:
            buy_df = pd.DataFrame(buy_stable_params)
            display(buy_df)
        else:
            print("安定パラメータが見つかりませんでした")
        
        # 売りシグナルの安定パラメータ
        print("\n売りシグナルの安定パラメータ:")
        sell_stable_params = stability_results['sell']['stable_params']
        if sell_stable_params:
            sell_df = pd.DataFrame(sell_stable_params)
            display(sell_df)
        else:
            print("安定パラメータが見つかりませんでした")
        
        # ヒートマップの表示
        print("\nヒートマップ:")
        
        # 買いシグナルのヒートマップ
        print("\n買いシグナルのヒートマップ:")
        for heatmap_type, path in stability_results['buy']['heatmaps'].items():
            if os.path.exists(path):
                plt.figure(figsize=(12, 10))
                img = mpimg.imread(path)
                plt.imshow(img)
                plt.axis('off')
                plt.title(f"買いシグナル: {heatmap_type}ヒートマップ")
                plt.savefig(f"data/results/parameters/buy_{heatmap_type}_heatmap.png", dpi=300, bbox_inches='tight')
                plt.show()
                print(f"ヒートマップ保存: data/results/parameters/buy_{heatmap_type}_heatmap.png")
        
        # 売りシグナルのヒートマップ
        print("\n売りシグナルのヒートマップ:")
        for heatmap_type, path in stability_results['sell']['heatmaps'].items():
            if os.path.exists(path):
                plt.figure(figsize=(12, 10))
                img = mpimg.imread(path)
                plt.imshow(img)
                plt.axis('off')
                plt.title(f"売りシグナル: {heatmap_type}ヒートマップ")
                plt.savefig(f"data/results/parameters/sell_{heatmap_type}_heatmap.png", dpi=300, bbox_inches='tight')
                plt.show()
                print(f"ヒートマップ保存: data/results/parameters/sell_{heatmap_type}_heatmap.png")
        
        # 安定パラメータの要約
        print("\n安定パラメータサマリー:")
        
        summary_data = []
        summary_data.append(["シグナルタイプ", "安定パラメータ数", "ベストパラメータ"])
        
        if buy_stable_params:
            best_buy = buy_stable_params[0]['param_key'] if buy_stable_params else "なし"
            summary_data.append(["買いシグナル", str(len(buy_stable_params)), best_buy])
        else:
            summary_data.append(["買いシグナル", "0", "なし"])
        
        if sell_stable_params:
            best_sell = sell_stable_params[0]['param_key'] if sell_stable_params else "なし"
            summary_data.append(["売りシグナル", str(len(sell_stable_params)), best_sell])
        else:
            summary_data.append(["売りシグナル", "0", "なし"])
        
        # HTMLテーブルとして表示
        summary_html = "<table style='width:100%; border-collapse:collapse;'>"
        for i, row in enumerate(summary_data):
            style = "background-color:#f2f2f2;" if i == 0 else ""
            summary_html += f"<tr style='{style}'>"
            for cell in row:
                tag = "th" if i == 0 else "td"
                summary_html += f"<{tag} style='padding:8px; border:1px solid #ddd;'>{cell}</{tag}>"
            summary_html += "</tr>"
        summary_html += "</table>"
        
        display(HTML(summary_html))
        
        # 上位5つのパラメータの詳細表示
        def format_param(param):
            return f"BB期間: {param.get('bb_window')}, BB幅: {param.get('bb_std')}, " \
                   f"StochK: {param.get('stoch_k')}, 保有期間: {param.get('holding')}"
        
        print("\n買いシグナルの上位パラメータ:")
        for i, param in enumerate(buy_stable_params[:5]):
            if i < len(buy_stable_params):
                print(f"{i+1}. {param['param_key']} - {format_param(param)}")
        
        print("\n売りシグナルの上位パラメータ:")
        for i, param in enumerate(sell_stable_params[:5]):
            if i < len(sell_stable_params):
                print(f"{i+1}. {param['param_key']} - {format_param(param)}")
    
    except Exception as e:
        print(f"パラメータ安定性評価エラー: {str(e)}")
        traceback.print_exc()

# 最終メモリ状態のチェック
try:
    print("\n最終メモリ使用状況:")
    memory_final = check_memory_usage()
    
    # メモリ使用の変化を表示
    if memory_start is not None and memory_final is not None:
        memory_increase = memory_final - memory_start
        print(f"メモリ使用量の増加: {memory_increase:.2f} GB")
except:
    pass

# 実行時間の表示
end_time = time.time()
execution_time = end_time - start_time
print(f"\n総処理時間: {execution_time:.2f}秒 ({execution_time/60:.2f}分)")
print(f"パラメータ安定性評価が完了しました: {datetime.now().strftime('%Y-%m-%d %H:%M:%S')}")

# 次のステップのガイダンス
print("\n次のステップ:")
print("1. 04_statistical_validation.ipynb を実行して統計的検証を行ってください")

# サマリーを表形式で表示
from IPython.display import HTML

if 'stability_results' in locals():
    summary_data = [
        ["処理ステップ", "結果"],
        ["評価対象ETF", f"{len(universe)}銘柄"],
        ["買いシグナルの安定パラメータ", f"{len(stability_results['buy']['stable_params'])}セット"],
        ["売りシグナルの安定パラメータ", f"{len(stability_results['sell']['stable_params'])}セット"],
        ["処理時間", f"{execution_time:.2f}秒 ({execution_time/60:.2f}分)"],
        ["結果ファイル", "data/results/parameters/stability_results.json"]
    ]

    summary_html = "<table style='width:100%; border-collapse:collapse;'>"
    for i, row in enumerate(summary_data):
        style = "background-color:#f2f2f2;" if i == 0 else ""
        summary_html += f"<tr style='{style}'>"
        for cell in row:
            tag = "th" if i == 0 else "td"
            summary_html += f"<{tag} style='padding:8px; border:1px solid #ddd;'>{cell}</{tag}>"
        summary_html += "</tr>"
    summary_html += "</table>"

    display(HTML(summary_html))
