# notebooks/03_parameter_stability.ipynb
"""
# パラメータ安定性評価

このノートブックでは、生成したシグナルのパラメータ安定性を評価します。
"""

# Google Colabでの実行環境のセットアップ
import sys
if 'google.colab' in sys.modules:
    # 以下のコードを実行してColabで環境をセットアップ
    !git clone https://github.com/your-username/etf-mean-reversion-strategy.git
    %cd etf-mean-reversion-strategy
    !pip install -r requirements.txt
    sys.path.append('.')

# 必要なライブラリとモジュールのインポート
import os
import json
import pandas as pd
import numpy as np
import matplotlib.pyplot as plt
import seaborn as sns
import time
from datetime import datetime
import matplotlib.image as mpimg

# プロジェクトモジュールのインポート
from src.parameters import evaluate_parameter_stability

# 結果ディレクトリの作成
os.makedirs("data/results/parameters", exist_ok=True)

# 実行の開始
print(f"パラメータ安定性評価を開始します: {datetime.now().strftime('%Y-%m-%d %H:%M:%S')}")
start_time = time.time()

# ステップ1: 最終ETFユニバースの読み込み
print("\n--- ステップ1: 最終ETFユニバースの読み込み ---")
try:
    with open("data/results/final_etf_universe.json", 'r') as f:
        universe = json.load(f)
    print(f"ETFユニバース: {len(universe)}銘柄")
except FileNotFoundError:
    print("エラー: ETFユニバースが見つかりません。01_etf_universe.ipynbを先に実行してください。")
    universe = []

if len(universe) == 0:
    print("警告: ETFユニバースが空です。処理を続行できません。")
else:
    # ステップ2: パラメータ安定性評価
    print("\n--- ステップ2: パラメータ安定性評価 ---")
    stability_results = evaluate_parameter_stability(universe)
    
    # 結果の表示
    print("\n安定性評価結果:")
    
    # 買いシグナルの安定パラメータ
    print("\n買いシグナルの安定パラメータ:")
    buy_stable_params = stability_results['buy']['stable_params']
    if buy_stable_params:
        buy_df = pd.DataFrame(buy_stable_params)
        display(buy_df)
    else:
        print("安定パラメータが見つかりませんでした")
    
    # 売りシグナルの安定パラメータ
    print("\n売りシグナルの安定パラメータ:")
    sell_stable_params = stability_results['sell']['stable_params']
    if sell_stable_params:
        sell_df = pd.DataFrame(sell_stable_params)
        display(sell_df)
    else:
        print("安定パラメータが見つかりませんでした")
    
    # ヒートマップの表示
    print("\nヒートマップ:")
    
    # 買いシグナルのヒートマップ
    print("\n買いシグナルのヒートマップ:")
    for heatmap_type, path in stability_results['buy']['heatmaps'].items():
        if os.path.exists(path):
            plt.figure(figsize=(12, 10))
            img = mpimg.imread(path)
            plt.imshow(img)
            plt.axis('off')
            plt.title(f"買いシグナル: {heatmap_type}ヒートマップ")
            plt.show()
    
    # 売りシグナルのヒートマップ
    print("\n売りシグナルのヒートマップ:")
    for heatmap_type, path in stability_results['sell']['heatmaps'].items():
        if os.path.exists(path):
            plt.figure(figsize=(12, 10))
            img = mpimg.imread(path)
            plt.imshow(img)
            plt.axis('off')
            plt.title(f"売りシグナル: {heatmap_type}ヒートマップ")
            plt.show()

# 実行時間の表示
end_time = time.time()
execution_time = end_time - start_time
print(f"\n処理時間: {execution_time:.2f}秒 ({execution_time/60:.2f}分)")
print(f"パラメータ安定性評価が完了しました: {datetime.now().strftime('%Y-%m-%d %H:%M:%S')}")

# 次のステップのガイダンス
print("\n次のステップ:")
print("1. 04_statistical_validation.ipynb を実行して統計的検証を行ってください（次回実装予定）")
