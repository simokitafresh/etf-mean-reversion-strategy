# notebooks/01_etf_universe.ipynb
"""
# ETFユニバース選定

このノートブックでは、ETF版「統計的トレンド逆張り」戦略のユニバース選定プロセスを実行します。
"""

# Google Colabでの実行環境のセットアップ
import sys
if 'google.colab' in sys.modules:
    # 以下のコードを実行してColabで環境をセットアップ
    !git clone https://github.com/your-username/etf-mean-reversion-strategy.git
    %cd etf-mean-reversion-strategy
    !pip install -r requirements.txt
    sys.path.append('.')

# 必要なライブラリとモジュールのインポート
import os
import pandas as pd
import numpy as np
import matplotlib.pyplot as plt
import seaborn as sns
import time
from datetime import datetime

# プロジェクトモジュールのインポート
from src.data.fetch import get_base_etf_list
from src.universe import select_universe

# 結果ディレクトリの作成
os.makedirs("data/results", exist_ok=True)

# 実行の開始
print(f"ETFユニバース選定を開始します: {datetime.now().strftime('%Y-%m-%d %H:%M:%S')}")
start_time = time.time()

# ステップ1: 基礎候補リストの取得
print("\n--- ステップ1: 基礎候補リストの取得 ---")
base_etfs = get_base_etf_list()
print(f"基礎候補リスト: {len(base_etfs)}銘柄")

# ステップ2〜5: ETFユニバースの選定
print("\n--- ステップ2〜5: ETFユニバースの選定 ---")
final_universe = select_universe(base_etfs)
print(f"最終ETFユニバース: {len(final_universe)}銘柄")

# 結果の表示
if len(final_universe) > 0:
    # データフレームとして整形
    df = pd.DataFrame(final_universe)
    display(df[['symbol', 'name', 'avg_volume', 'aum', 'estimated_spread', 'cluster']])
    
    # クラスタ分布を確認
    if 'cluster' in df.columns:
        plt.figure(figsize=(12, 6))
        cluster_counts = df['cluster'].value_counts().sort_index()
        ax = cluster_counts.plot(kind='bar')
        plt.title('ETFクラスタ分布')
        plt.xlabel('クラスタID')
        plt.ylabel('ETF数')
        for i, v in enumerate(cluster_counts):
            ax.text(i, v + 0.1, str(v), ha='center')
        plt.tight_layout()
        plt.show()

# 実行時間の表示
end_time = time.time()
execution_time = end_time - start_time
print(f"\n処理時間: {execution_time:.2f}秒 ({execution_time/60:.2f}分)")
print(f"ETFユニバース選定が完了しました: {datetime.now().strftime('%Y-%m-%d %H:%M:%S')}")

# 次のステップのガイダンス
print("\n次のステップ:")
print("1. 02_signal_generation.ipynb を実行してシグナル生成を行ってください")
print("2. 03_parameter_stability.ipynb を実行してパラメータ安定性を評価してください")
